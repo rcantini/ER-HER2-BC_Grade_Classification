{
 "cells": [
  {
   "cell_type": "code",
   "execution_count": 1,
   "id": "00d52c15-f601-4a8b-aa86-52ec66a5ccfb",
   "metadata": {
    "ExecuteTime": {
     "end_time": "2024-05-24T07:03:08.437319Z",
     "start_time": "2024-05-24T07:03:08.431833Z"
    }
   },
   "outputs": [],
   "source": [
    "import numpy as np\n",
    "import pandas as pd\n",
    "from sklearn.cluster import KMeans\n",
    "import matplotlib.pyplot as plt\n",
    "import numpy as np\n",
    "import warnings\n",
    "warnings.filterwarnings(\"ignore\")"
   ]
  },
  {
   "cell_type": "markdown",
   "id": "098db907-5daf-49b8-9c12-8a65f69546b2",
   "metadata": {
    "tags": []
   },
   "source": [
    "TCGA clustering\n",
    "---"
   ]
  },
  {
   "cell_type": "code",
   "execution_count": 2,
   "id": "970f7dea-9826-45e9-a3c1-d1eba285f9ad",
   "metadata": {},
   "outputs": [],
   "source": [
    "from sklearn.cluster import KMeans, AgglomerativeClustering, SpectralClustering\n",
    "from sklearn.mixture import GaussianMixture\n",
    "from sklearn.metrics import silhouette_score, calinski_harabasz_score, davies_bouldin_score\n",
    "import pandas as pd\n",
    "\n",
    "def clustering_comparison(dataframe, genes_list, file_name):\n",
    "\n",
    "    genes = [gene.strip() for gene in genes_list]\n",
    "\n",
    "    # Validate gene existence in dataframe\n",
    "    genes_in_dataframe = [gene for gene in genes if gene in dataframe.columns]\n",
    "    if not genes_in_dataframe:\n",
    "        raise ValueError(\"None of the genes found in the file exist in the DataFrame columns.\")\n",
    "    missing_genes = set(genes) - set(genes_in_dataframe)\n",
    "    if missing_genes:\n",
    "        print(f\"Warning: The following genes were not found in the DataFrame: {missing_genes}\")\n",
    "\n",
    "    # Extract relevant gene data\n",
    "    gene_data = dataframe[genes_in_dataframe]\n",
    "\n",
    "    # Store results\n",
    "    clustering_results = {}\n",
    "\n",
    "    # Define clustering algorithms with K=2 where applicable\n",
    "    clustering_algorithms = {\n",
    "        'KMeans': KMeans(n_clusters=2, random_state=0),\n",
    "        ### uncomment to rull all clustering algorithms\n",
    "        # 'Agglomerative': AgglomerativeClustering(n_clusters=2),\n",
    "        # 'Spectral': SpectralClustering(n_clusters=2, affinity='nearest_neighbors', random_state=0),\n",
    "        # 'GMM': GaussianMixture(n_components=2, random_state=0)\n",
    "    }\n",
    "\n",
    "    for name, algorithm in clustering_algorithms.items():\n",
    "        try:\n",
    "            if name == 'GMM':\n",
    "                algorithm.fit(gene_data)\n",
    "                labels = algorithm.predict(gene_data)\n",
    "            else:\n",
    "                labels = algorithm.fit_predict(gene_data)\n",
    "\n",
    "            silhouette = silhouette_score(gene_data, labels)\n",
    "            ch_index = calinski_harabasz_score(gene_data, labels)\n",
    "            db_index = davies_bouldin_score(gene_data, labels)\n",
    "\n",
    "            clustering_results[name] = {\n",
    "                'labels': labels,\n",
    "                'silhouette_score': silhouette,\n",
    "                'calinski_harabasz_index': ch_index,\n",
    "                'davies_bouldin_index': db_index\n",
    "            }\n",
    "\n",
    "            print(f\"{name} clustering:\")\n",
    "            print(f\"  Silhouette Score: {silhouette:.4f}\")\n",
    "            print(f\"  Calinski-Harabasz Index: {ch_index:.4f}\")\n",
    "            print(f\"  Davies-Bouldin Index: {db_index:.4f}\")\n",
    "            print(\"-\" * 40)\n",
    "\n",
    "        except Exception as e:\n",
    "            print(f\"Error in {name} clustering: {e}\")\n",
    "\n",
    "    # Save clusters from the best algorithm (e.g., highest silhouette)\n",
    "    if clustering_results:\n",
    "        best_algo = max(clustering_results.items(), key=lambda x: x[1]['silhouette_score'])[0]\n",
    "        dataframe['cluster'] = clustering_results[best_algo]['labels']\n",
    "        dataframe.to_csv(file_name, index=False)\n",
    "        print(f\"Best clustering method: {best_algo}, saved results to {file_name}\")\n",
    "\n",
    "    return clustering_results"
   ]
  },
  {
   "cell_type": "code",
   "execution_count": 3,
   "id": "5131c11d-1d0e-46a3-9910-ac4fbbe8d7b5",
   "metadata": {},
   "outputs": [],
   "source": [
    "def read_ds():\n",
    "    df = pd.read_csv(\"TCGA_dataset.csv\") ## insert the path to your local TGCA dataset (expected in csv format)\n",
    "    filtered_df = df[(df['gender'] != 'MALE') & (df['sample_type'] != 'Solid Tissue Normal')]\n",
    "    er_pos = filtered_df[(filtered_df['ER_Status_nature2012'] == 'Positive') &\n",
    "              (filtered_df['HER2_Final_Status_nature2012'] == 'Negative')]\n",
    "    others = filtered_df.drop(er_pos.index)\n",
    "    return filtered_df, er_pos, others"
   ]
  },
  {
   "cell_type": "code",
   "execution_count": 4,
   "id": "edfb9563-803c-4fc2-abc5-3bbd02b2696e",
   "metadata": {
    "tags": []
   },
   "outputs": [
    {
     "data": {
      "text/plain": [
       "((1090, 20734), (481, 20734), (609, 20734))"
      ]
     },
     "execution_count": 4,
     "metadata": {},
     "output_type": "execute_result"
    }
   ],
   "source": [
    "filtered_df, er_pos, others = read_ds()\n",
    "filtered_df.shape, er_pos.shape, others.shape"
   ]
  },
  {
   "cell_type": "code",
   "execution_count": 5,
   "id": "dd548c21-8ba4-43a7-9db1-9c644a6d4c3d",
   "metadata": {
    "tags": []
   },
   "outputs": [
    {
     "name": "stdout",
     "output_type": "stream",
     "text": [
      "KMeans clustering:\n",
      "  Silhouette Score: 0.3529\n",
      "  Calinski-Harabasz Index: 396.0096\n",
      "  Davies-Bouldin Index: 1.0250\n",
      "----------------------------------------\n",
      "Best clustering method: KMeans, saved results to labeled_ds_TCGA.csv\n"
     ]
    }
   ],
   "source": [
    "_, er_pos, _ = read_ds()\n",
    "genes_list = [\"CDCA5\", \"AURKA\", \"UBE2C\", \"MKNK2\", \"CCNB2\", \"C14orf45\", \"CYB5D1\", \"APH1B \"]\n",
    "results = clustering_comparison(er_pos, genes_list, file_name = f\"labeled_ds_TCGA.csv\")"
   ]
  },
  {
   "cell_type": "code",
   "execution_count": 9,
   "id": "fc944814-fc75-4aa1-ba93-4810e3ba0fa2",
   "metadata": {},
   "outputs": [],
   "source": [
    "import matplotlib.pyplot as plt\n",
    "import numpy as np\n",
    "\n",
    "def plot_clustering(clustering_results, output_file=\"clustering_metrics_comparison.pdf\"):\n",
    "    # Initialize lists\n",
    "    algorithms = []\n",
    "    silhouette_scores = []\n",
    "    calinski_scores = []\n",
    "    davies_scores = []\n",
    "\n",
    "    # Collect valid metrics\n",
    "    for alg, metrics in clustering_results.items():\n",
    "        try:\n",
    "            s = metrics['silhouette_score']\n",
    "            c = metrics['calinski_harabasz_index']\n",
    "            d = metrics['davies_bouldin_index']\n",
    "\n",
    "            if any(np.isnan([s, c, d])):\n",
    "                print(f\"Skipping {alg} due to NaN in metrics.\")\n",
    "                continue\n",
    "\n",
    "            algorithms.append(alg)\n",
    "            silhouette_scores.append(s)\n",
    "            calinski_scores.append(c)\n",
    "            davies_scores.append(d)\n",
    "\n",
    "        except Exception as e:\n",
    "            print(f\"Skipping {alg} due to error: {e}\")\n",
    "\n",
    "    if not algorithms:\n",
    "        print(\"No valid clustering results to plot.\")\n",
    "        return\n",
    "\n",
    "    x = np.arange(len(algorithms))\n",
    "\n",
    "    # Create 3 subplots side-by-side\n",
    "    fig, axes = plt.subplots(1, 3, figsize=(16, 5), constrained_layout=True)\n",
    "\n",
    "    metric_data = [\n",
    "        (\"Silhouette Score (↑)\", silhouette_scores, 'skyblue'),\n",
    "        (\"Calinski-Harabasz Index (↑)\", calinski_scores, 'lightgreen'),\n",
    "        (\"Davies-Bouldin Index (↓)\", davies_scores, 'salmon'),\n",
    "    ]\n",
    "\n",
    "    for ax, (title, scores, color) in zip(axes, metric_data):\n",
    "        bars = ax.bar(x, scores, color=color)\n",
    "        ax.set_title(title)\n",
    "        ax.set_ylabel(\"Score\")\n",
    "        ax.set_xticks(x)\n",
    "        ax.set_xticklabels(algorithms, rotation=45)\n",
    "\n",
    "        # Add numeric value on top of each bar\n",
    "        for bar, score in zip(bars, scores):\n",
    "            height = bar.get_height()\n",
    "            ax.text(\n",
    "                bar.get_x() + bar.get_width() / 2,\n",
    "                height + 0.01 * max(scores),  # small padding\n",
    "                f'{score:.3f}',\n",
    "                ha='center', va='bottom', fontsize=9\n",
    "            )\n",
    "\n",
    "    plt.suptitle(\"Clustering Algorithm Metrics Comparison\", fontsize=16)\n",
    "    plt.savefig(output_file, format='pdf')\n",
    "    plt.show()\n",
    "\n",
    "    print(f\"Saved plot to: {output_file}\")\n",
    "\n",
    "\n",
    "### uncomment to plot\n",
    "\n",
    "# plot_clustering(results)"
   ]
  }
 ],
 "metadata": {
  "kernelspec": {
   "display_name": "Python riccardo_cantini (GPU 7)",
   "language": "python",
   "name": "riccardo_cantini"
  },
  "language_info": {
   "codemirror_mode": {
    "name": "ipython",
    "version": 3
   },
   "file_extension": ".py",
   "mimetype": "text/x-python",
   "name": "python",
   "nbconvert_exporter": "python",
   "pygments_lexer": "ipython3",
   "version": "3.12.3"
  }
 },
 "nbformat": 4,
 "nbformat_minor": 5
}
